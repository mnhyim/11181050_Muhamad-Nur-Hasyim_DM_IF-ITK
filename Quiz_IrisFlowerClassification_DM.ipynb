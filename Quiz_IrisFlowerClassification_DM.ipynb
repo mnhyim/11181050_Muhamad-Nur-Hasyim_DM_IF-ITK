{
  "nbformat": 4,
  "nbformat_minor": 0,
  "metadata": {
    "colab": {
      "name": "Quiz_IrisFlowerClassification_DM.ipynb",
      "provenance": []
    },
    "kernelspec": {
      "name": "python3",
      "display_name": "Python 3"
    },
    "language_info": {
      "name": "python"
    }
  },
  "cells": [
    {
      "cell_type": "markdown",
      "metadata": {
        "id": "IGzggk0lXCMh"
      },
      "source": [
        "# Data Preparations"
      ]
    },
    {
      "cell_type": "markdown",
      "metadata": {
        "id": "fEUw8n0Iwpng"
      },
      "source": [
        "Download dataset menggunakan API Kaggle"
      ]
    },
    {
      "cell_type": "code",
      "metadata": {
        "id": "0x8xK7h9IwQW"
      },
      "source": [
        "# Load Kaggle API\n",
        "!pip install -q kaggle\n",
        "!mkdir -p ~/.kaggle\n",
        "!cp kaggle.json ~/.kaggle/\n",
        "!ls ~/.kaggle\n",
        "!chmod 600 /root/.kaggle/kaggle.json"
      ],
      "execution_count": null,
      "outputs": []
    },
    {
      "cell_type": "code",
      "metadata": {
        "id": "gV5HvfqYJwad"
      },
      "source": [
        "# Download dataset\n",
        "!kaggle datasets download -d arshid/iris-flower-dataset -p /content/dataset\n",
        "!unzip \"/content/dataset/iris-flower-dataset.zip\" -d \"/content/dataset/\""
      ],
      "execution_count": null,
      "outputs": []
    },
    {
      "cell_type": "markdown",
      "metadata": {
        "id": "F1BHVTjpwxuK"
      },
      "source": [
        "Import module python yang akan digunakan"
      ]
    },
    {
      "cell_type": "code",
      "metadata": {
        "id": "RL3XQeqQLvKy"
      },
      "source": [
        "import pandas as pd\n",
        "import matplotlib.pyplot as plt\n",
        "import numpy as np\n",
        "import seaborn as sns\n",
        "import sklearn"
      ],
      "execution_count": 3,
      "outputs": []
    },
    {
      "cell_type": "markdown",
      "metadata": {
        "id": "3U6UMlUDw0dJ"
      },
      "source": [
        "Dataset dijadikan sebuah dataframe pandas, features (sepal_length, sepal_width, petal_length, petal_width) pada dataset dijadikan variable x dan labels (species) pada data dijadikan variable y"
      ]
    },
    {
      "cell_type": "code",
      "metadata": {
        "id": "fld_8rbVMV0a"
      },
      "source": [
        "# load dataset as pandas dataframe\n",
        "df = pd.read_csv ('/content/dataset/IRIS.csv')\n",
        "df.info()\n",
        "\n",
        "# features to x var\n",
        "x = df.iloc[:, [0,1,2,3]].values\n",
        "# labels to y var\n",
        "y = df.iloc[:, -1].values"
      ],
      "execution_count": null,
      "outputs": []
    },
    {
      "cell_type": "markdown",
      "metadata": {
        "id": "hjOnC9qUxEBW"
      },
      "source": [
        "Dilakukan visualisasi data yang digunakan, dapat dilihat bahwa tiap species tanaman masing-masing memiliki jumlah sebesar 33.3%\n",
        "\n",
        "Dilakukan juga visualisasi distribusi panjang dan lebar petal bunga, dan dapat dilihat bahwa Iris-setosa cenderung memiliki petal yang berukuran kecil, Iris-Versicolor cenderung berukuran sedang, dan Iris-virginica cenderung berukuran besar"
      ]
    },
    {
      "cell_type": "code",
      "metadata": {
        "id": "ukdEF9t-oNwM"
      },
      "source": [
        "print(df.species.value_counts())\n",
        "\n",
        "# visualisasi species tanaman\n",
        "fig1, ax1 = plt.subplots()\n",
        "ax1.pie(df.species.value_counts(), labels=df.species.unique(), autopct='%1.1f%%', shadow=True, startangle=90)\n",
        "plt.tight_layout()\n",
        "\n",
        "# distribusi panjang dan lebar petal bunga\n",
        "fig1, ax1 = plt.subplots()\n",
        "sns.scatterplot(x=df.petal_length, y=df.petal_width, hue=df.species)\n",
        "plt.tight_layout()"
      ],
      "execution_count": null,
      "outputs": []
    },
    {
      "cell_type": "markdown",
      "metadata": {
        "id": "LIquVEgKJKYg"
      },
      "source": [
        "Lakukan label encoding pada label 'species'"
      ]
    },
    {
      "cell_type": "code",
      "metadata": {
        "id": "ofshybP305eV"
      },
      "source": [
        "from sklearn.preprocessing import LabelEncoder\n",
        "\n",
        "# encoding labels pada kolom species\n",
        "label_encoding = LabelEncoder()\n",
        "df['species'] = label_encoding.fit_transform(df['species'])\n",
        "df.sample(6)"
      ],
      "execution_count": null,
      "outputs": []
    },
    {
      "cell_type": "markdown",
      "metadata": {
        "id": "39yNKcVhJJHX"
      },
      "source": [
        "Saya menggunakan Train-Test Split dengan data Training: 85%, Data Uji: 25%"
      ]
    },
    {
      "cell_type": "code",
      "metadata": {
        "id": "PNC-q6idI4ZB"
      },
      "source": [
        "from sklearn.model_selection import train_test_split\n",
        "\n",
        "X_train, X_test, y_train, y_test = train_test_split(x, y, test_size = 0.25, random_state = 0)"
      ],
      "execution_count": 6,
      "outputs": []
    },
    {
      "cell_type": "markdown",
      "metadata": {
        "id": "7bGJC8Q4XFDP"
      },
      "source": [
        "# Naive-Bayes Classifier"
      ]
    },
    {
      "cell_type": "code",
      "metadata": {
        "id": "q5LsWO9MO6DV"
      },
      "source": [
        "from sklearn.naive_bayes import GaussianNB\n",
        "\n",
        "classifier = GaussianNB()\n",
        "classifier.fit(X_train, y_train)"
      ],
      "execution_count": null,
      "outputs": []
    },
    {
      "cell_type": "code",
      "metadata": {
        "id": "wz1hC3zKO8bl"
      },
      "source": [
        "y_pred  =  classifier.predict(X_test)"
      ],
      "execution_count": 8,
      "outputs": []
    },
    {
      "cell_type": "code",
      "metadata": {
        "id": "3Bf30fkgQx_8"
      },
      "source": [
        "from sklearn.metrics import confusion_matrix, accuracy_score, classification_report\n",
        "\n",
        "print(classification_report(y_test, y_pred))\n",
        "print(confusion_matrix(y_test, y_pred))\n"
      ],
      "execution_count": null,
      "outputs": []
    },
    {
      "cell_type": "markdown",
      "metadata": {
        "id": "U47Y2_6sXHkR"
      },
      "source": [
        "# Kernel SVM"
      ]
    },
    {
      "cell_type": "code",
      "metadata": {
        "id": "y8OqLIcIN6kg"
      },
      "source": [
        "from sklearn.svm import SVC\n",
        "\n",
        "svclassifier = SVC(kernel='rbf')\n",
        "svclassifier.fit(X_train, y_train)"
      ],
      "execution_count": null,
      "outputs": []
    },
    {
      "cell_type": "code",
      "metadata": {
        "id": "ev_rfuPmN_Fb"
      },
      "source": [
        "y_pred = svclassifier.predict(X_test)"
      ],
      "execution_count": 11,
      "outputs": []
    },
    {
      "cell_type": "code",
      "metadata": {
        "id": "PamejMShF2mS"
      },
      "source": [
        "from sklearn.metrics import classification_report, confusion_matrix\n",
        "print(classification_report(y_test,y_pred))\n",
        "print(confusion_matrix(y_test,y_pred))"
      ],
      "execution_count": null,
      "outputs": []
    },
    {
      "cell_type": "markdown",
      "metadata": {
        "id": "PLncptW0YS_P"
      },
      "source": [
        "# Kesimpulan"
      ]
    },
    {
      "cell_type": "markdown",
      "metadata": {
        "id": "FwID_6AKYfB3"
      },
      "source": [
        "Pada quiz ini saya menggunakan dua algoritma klasifikasi yaitu **Gaussian Naive Bayes Classifier** dan **Kernel SVM dengan Kernel SVM**. \n",
        "\n",
        "Jumlah Dataset sebanyak 150 saya bagi menjadi 85% sebagai data training dan 25% sebagai data uji. Preprocessing yang dilakukan pada dataset adalah encoding pada label 'spesies'.\n",
        "\n",
        "Dari hasil yang telah didapatkan, akurasi dari **Gaussian Naive Bayes Classifier** sebesar 100%, sedangkan  **Kernel SVM dengan Kernel SVM** sebesar 97%."
      ]
    }
  ]
}