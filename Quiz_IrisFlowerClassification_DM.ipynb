{
  "nbformat": 4,
  "nbformat_minor": 0,
  "metadata": {
    "colab": {
      "name": "Quiz_IrisFlowerClassification_DM.ipynb",
      "provenance": []
    },
    "kernelspec": {
      "name": "python3",
      "display_name": "Python 3"
    },
    "language_info": {
      "name": "python"
    }
  },
  "cells": [
    {
      "cell_type": "markdown",
      "metadata": {
        "id": "IGzggk0lXCMh"
      },
      "source": [
        "# Data Preparations"
      ]
    },
    {
      "cell_type": "markdown",
      "metadata": {
        "id": "fEUw8n0Iwpng"
      },
      "source": [
        "Download dataset menggunakan API Kaggle"
      ]
    },
    {
      "cell_type": "code",
      "metadata": {
        "id": "0x8xK7h9IwQW",
        "colab": {
          "base_uri": "https://localhost:8080/"
        },
        "outputId": "43d11342-df1c-4e25-8f29-eddb3cddde15"
      },
      "source": [
        "# Load Kaggle API\n",
        "!pip install -q kaggle\n",
        "!mkdir -p ~/.kaggle\n",
        "!cp kaggle.json ~/.kaggle/\n",
        "!ls ~/.kaggle\n",
        "!chmod 600 /root/.kaggle/kaggle.json"
      ],
      "execution_count": 1,
      "outputs": [
        {
          "output_type": "stream",
          "name": "stdout",
          "text": [
            "kaggle.json\n"
          ]
        }
      ]
    },
    {
      "cell_type": "code",
      "metadata": {
        "id": "gV5HvfqYJwad",
        "colab": {
          "base_uri": "https://localhost:8080/"
        },
        "outputId": "1e90566a-bae2-4ca7-be9c-3e52b585ccbc"
      },
      "source": [
        "# Download dataset\n",
        "!kaggle datasets download -d arshid/iris-flower-dataset -p /content/dataset\n",
        "!unzip \"/content/dataset/iris-flower-dataset.zip\" -d \"/content/dataset/\""
      ],
      "execution_count": 2,
      "outputs": [
        {
          "output_type": "stream",
          "name": "stdout",
          "text": [
            "Downloading iris-flower-dataset.zip to /content/dataset\n",
            "\r  0% 0.00/0.99k [00:00<?, ?B/s]\n",
            "\r100% 0.99k/0.99k [00:00<00:00, 1.88MB/s]\n",
            "Archive:  /content/dataset/iris-flower-dataset.zip\n",
            "  inflating: /content/dataset/IRIS.csv  \n"
          ]
        }
      ]
    },
    {
      "cell_type": "markdown",
      "metadata": {
        "id": "F1BHVTjpwxuK"
      },
      "source": [
        "Import module python yang akan digunakan"
      ]
    },
    {
      "cell_type": "code",
      "metadata": {
        "id": "RL3XQeqQLvKy"
      },
      "source": [
        "import pandas as pd\n",
        "import matplotlib.pyplot as plt\n",
        "import numpy as np\n",
        "import seaborn as sns\n",
        "import sklearn"
      ],
      "execution_count": 3,
      "outputs": []
    },
    {
      "cell_type": "markdown",
      "metadata": {
        "id": "3U6UMlUDw0dJ"
      },
      "source": [
        "Dataset dijadikan dataframe pandas df, features pada dataset dijadikan variable x dan labels pada data dijadikan variable y"
      ]
    },
    {
      "cell_type": "code",
      "metadata": {
        "id": "fld_8rbVMV0a",
        "colab": {
          "base_uri": "https://localhost:8080/"
        },
        "outputId": "a14ad7b0-8e0e-4cf5-e89f-df0d6bda04bb"
      },
      "source": [
        "# load dataset as pandas dataframe\n",
        "df = pd.read_csv ('/content/dataset/IRIS.csv')\n",
        "df.info()\n",
        "\n",
        "# features to x var\n",
        "x = df.iloc[:, [0,1,2,3]].values\n",
        "# labels to y var\n",
        "y = df.iloc[:, -1].values"
      ],
      "execution_count": 4,
      "outputs": [
        {
          "output_type": "stream",
          "name": "stdout",
          "text": [
            "<class 'pandas.core.frame.DataFrame'>\n",
            "RangeIndex: 150 entries, 0 to 149\n",
            "Data columns (total 5 columns):\n",
            " #   Column        Non-Null Count  Dtype  \n",
            "---  ------        --------------  -----  \n",
            " 0   sepal_length  150 non-null    float64\n",
            " 1   sepal_width   150 non-null    float64\n",
            " 2   petal_length  150 non-null    float64\n",
            " 3   petal_width   150 non-null    float64\n",
            " 4   species       150 non-null    object \n",
            "dtypes: float64(4), object(1)\n",
            "memory usage: 6.0+ KB\n"
          ]
        }
      ]
    },
    {
      "cell_type": "markdown",
      "metadata": {
        "id": "hjOnC9qUxEBW"
      },
      "source": [
        "Dilakukan visualisasi data yang digunakan, dapat dilihat bahwa tiap species tanaman masing-masing memiliki jumlah sebesar 33.3%\n",
        "\n",
        "Dilakukan juga visualisasi distribusi panjang dan lebar petal bunga, dan dapat dilihat bahwa Iris-setosa cenderung memiliki petal yang berukuran kecil, Iris-Versicolor cenderung berukuran sedang, dan Iris-virginica cenderung berukuran besar"
      ]
    },
    {
      "cell_type": "code",
      "metadata": {
        "id": "ukdEF9t-oNwM",
        "colab": {
          "base_uri": "https://localhost:8080/",
          "height": 645
        },
        "outputId": "93a29a8c-3ef4-4acc-b302-297e0017c7ce"
      },
      "source": [
        "print(df.species.value_counts())\n",
        "\n",
        "# visualisasi species tanaman\n",
        "fig1, ax1 = plt.subplots()\n",
        "ax1.pie(df.species.value_counts(), labels=df.species.unique(), autopct='%1.1f%%', shadow=True, startangle=90)\n",
        "plt.tight_layout()\n",
        "\n",
        "# distribusi panjang dan lebar petal bunga\n",
        "fig1, ax1 = plt.subplots()\n",
        "sns.scatterplot(x=df.petal_length, y=df.petal_width, hue=df.species)\n",
        "plt.tight_layout()"
      ],
      "execution_count": 5,
      "outputs": [
        {
          "output_type": "stream",
          "name": "stdout",
          "text": [
            "Iris-setosa        50\n",
            "Iris-versicolor    50\n",
            "Iris-virginica     50\n",
            "Name: species, dtype: int64\n"
          ]
        },
        {
          "output_type": "display_data",
          "data": {
            "image/png": "[encoded data removed]",
            "text/plain": [
              "<Figure size 432x288 with 1 Axes>"
            ]
          },
          "metadata": {}
        },
        {
          "output_type": "display_data",
          "data": {
            "image/png": "[encoded data removed]",
            "text/plain": [
              "<Figure size 432x288 with 1 Axes>"
            ]
          },
          "metadata": {
            "needs_background": "light"
          }
        }
      ]
    },
    {
      "cell_type": "markdown",
      "metadata": {
        "id": "LIquVEgKJKYg"
      },
      "source": [
        "Lakukan feature encoding pada label 'species'"
      ]
    },
    {
      "cell_type": "code",
      "metadata": {
        "id": "ofshybP305eV",
        "colab": {
          "base_uri": "https://localhost:8080/",
          "height": 235
        },
        "outputId": "46fa374f-ebdb-4597-9d9c-a1090fe93072"
      },
      "source": [
        "from sklearn.preprocessing import LabelEncoder\n",
        "\n",
        "# encoding labels pada kolom species\n",
        "label_encoding = LabelEncoder()\n",
        "df['species'] = label_encoding.fit_transform(df['species'])\n",
        "df.sample(6)"
      ],
      "execution_count": 6,
      "outputs": [
        {
          "output_type": "execute_result",
          "data": {
            "text/html": [
              "<div>\n",
              "<style scoped>\n",
              "    .dataframe tbody tr th:only-of-type {\n",
              "        vertical-align: middle;\n",
              "    }\n",
              "\n",
              "    .dataframe tbody tr th {\n",
              "        vertical-align: top;\n",
              "    }\n",
              "\n",
              "    .dataframe thead th {\n",
              "        text-align: right;\n",
              "    }\n",
              "</style>\n",
              "<table border=\"1\" class=\"dataframe\">\n",
              "  <thead>\n",
              "    <tr style=\"text-align: right;\">\n",
              "      <th></th>\n",
              "      <th>sepal_length</th>\n",
              "      <th>sepal_width</th>\n",
              "      <th>petal_length</th>\n",
              "      <th>petal_width</th>\n",
              "      <th>species</th>\n",
              "    </tr>\n",
              "  </thead>\n",
              "  <tbody>\n",
              "    <tr>\n",
              "      <th>48</th>\n",
              "      <td>5.3</td>\n",
              "      <td>3.7</td>\n",
              "      <td>1.5</td>\n",
              "      <td>0.2</td>\n",
              "      <td>0</td>\n",
              "    </tr>\n",
              "    <tr>\n",
              "      <th>79</th>\n",
              "      <td>5.7</td>\n",
              "      <td>2.6</td>\n",
              "      <td>3.5</td>\n",
              "      <td>1.0</td>\n",
              "      <td>1</td>\n",
              "    </tr>\n",
              "    <tr>\n",
              "      <th>13</th>\n",
              "      <td>4.3</td>\n",
              "      <td>3.0</td>\n",
              "      <td>1.1</td>\n",
              "      <td>0.1</td>\n",
              "      <td>0</td>\n",
              "    </tr>\n",
              "    <tr>\n",
              "      <th>56</th>\n",
              "      <td>6.3</td>\n",
              "      <td>3.3</td>\n",
              "      <td>4.7</td>\n",
              "      <td>1.6</td>\n",
              "      <td>1</td>\n",
              "    </tr>\n",
              "    <tr>\n",
              "      <th>61</th>\n",
              "      <td>5.9</td>\n",
              "      <td>3.0</td>\n",
              "      <td>4.2</td>\n",
              "      <td>1.5</td>\n",
              "      <td>1</td>\n",
              "    </tr>\n",
              "    <tr>\n",
              "      <th>9</th>\n",
              "      <td>4.9</td>\n",
              "      <td>3.1</td>\n",
              "      <td>1.5</td>\n",
              "      <td>0.1</td>\n",
              "      <td>0</td>\n",
              "    </tr>\n",
              "  </tbody>\n",
              "</table>\n",
              "</div>"
            ],
            "text/plain": [
              "    sepal_length  sepal_width  petal_length  petal_width  species\n",
              "48           5.3          3.7           1.5          0.2        0\n",
              "79           5.7          2.6           3.5          1.0        1\n",
              "13           4.3          3.0           1.1          0.1        0\n",
              "56           6.3          3.3           4.7          1.6        1\n",
              "61           5.9          3.0           4.2          1.5        1\n",
              "9            4.9          3.1           1.5          0.1        0"
            ]
          },
          "metadata": {},
          "execution_count": 6
        }
      ]
    },
    {
      "cell_type": "markdown",
      "metadata": {
        "id": "39yNKcVhJJHX"
      },
      "source": [
        "Saya menggunakan Train-Test Split dengan data Training: 85%, Data Uji: 25%"
      ]
    },
    {
      "cell_type": "code",
      "metadata": {
        "id": "PNC-q6idI4ZB"
      },
      "source": [
        "from sklearn.model_selection import train_test_split\n",
        "\n",
        "X_train, X_test, y_train, y_test = train_test_split(x, y, test_size = 0.25, random_state = 0)"
      ],
      "execution_count": 7,
      "outputs": []
    },
    {
      "cell_type": "markdown",
      "metadata": {
        "id": "7bGJC8Q4XFDP"
      },
      "source": [
        "# Naive-Bayes Classifier"
      ]
    },
    {
      "cell_type": "code",
      "metadata": {
        "id": "q5LsWO9MO6DV",
        "colab": {
          "base_uri": "https://localhost:8080/"
        },
        "outputId": "b73f03db-2abc-4b0c-e0c1-f586c948f816"
      },
      "source": [
        "from sklearn.naive_bayes import GaussianNB\n",
        "\n",
        "classifier = GaussianNB()\n",
        "classifier.fit(X_train, y_train)"
      ],
      "execution_count": 8,
      "outputs": [
        {
          "output_type": "execute_result",
          "data": {
            "text/plain": [
              "GaussianNB(priors=None, var_smoothing=1e-09)"
            ]
          },
          "metadata": {},
          "execution_count": 8
        }
      ]
    },
    {
      "cell_type": "code",
      "metadata": {
        "id": "wz1hC3zKO8bl"
      },
      "source": [
        "y_pred  =  classifier.predict(X_test)"
      ],
      "execution_count": 9,
      "outputs": []
    },
    {
      "cell_type": "code",
      "metadata": {
        "id": "3Bf30fkgQx_8",
        "colab": {
          "base_uri": "https://localhost:8080/"
        },
        "outputId": "e7e02c72-b39d-4d87-8f69-b238275a3558"
      },
      "source": [
        "# classification report, accuracy score, dan confusion matrix\n",
        "from sklearn.metrics import confusion_matrix, accuracy_score, classification_report\n",
        "\n",
        "print(classification_report(y_test, y_pred))\n",
        "print(confusion_matrix(y_test, y_pred))\n"
      ],
      "execution_count": 10,
      "outputs": [
        {
          "output_type": "stream",
          "name": "stdout",
          "text": [
            "                 precision    recall  f1-score   support\n",
            "\n",
            "    Iris-setosa       1.00      1.00      1.00        13\n",
            "Iris-versicolor       1.00      1.00      1.00        16\n",
            " Iris-virginica       1.00      1.00      1.00         9\n",
            "\n",
            "       accuracy                           1.00        38\n",
            "      macro avg       1.00      1.00      1.00        38\n",
            "   weighted avg       1.00      1.00      1.00        38\n",
            "\n",
            "[[13  0  0]\n",
            " [ 0 16  0]\n",
            " [ 0  0  9]]\n"
          ]
        }
      ]
    },
    {
      "cell_type": "markdown",
      "metadata": {
        "id": "U47Y2_6sXHkR"
      },
      "source": [
        "# Kernel SVM"
      ]
    },
    {
      "cell_type": "code",
      "metadata": {
        "id": "y8OqLIcIN6kg",
        "colab": {
          "base_uri": "https://localhost:8080/"
        },
        "outputId": "75fbd22b-81df-4db2-e052-abf3327c75c9"
      },
      "source": [
        "from sklearn.svm import SVC\n",
        "\n",
        "svclassifier = SVC(kernel='rbf')\n",
        "svclassifier.fit(X_train, y_train)"
      ],
      "execution_count": 11,
      "outputs": [
        {
          "output_type": "execute_result",
          "data": {
            "text/plain": [
              "SVC(C=1.0, break_ties=False, cache_size=200, class_weight=None, coef0=0.0,\n",
              "    decision_function_shape='ovr', degree=3, gamma='scale', kernel='rbf',\n",
              "    max_iter=-1, probability=False, random_state=None, shrinking=True,\n",
              "    tol=0.001, verbose=False)"
            ]
          },
          "metadata": {},
          "execution_count": 11
        }
      ]
    },
    {
      "cell_type": "code",
      "metadata": {
        "id": "ev_rfuPmN_Fb"
      },
      "source": [
        "y_pred = svclassifier.predict(X_test)"
      ],
      "execution_count": 12,
      "outputs": []
    },
    {
      "cell_type": "code",
      "metadata": {
        "id": "PamejMShF2mS",
        "colab": {
          "base_uri": "https://localhost:8080/"
        },
        "outputId": "b0e4d74e-2e55-45b7-b463-5ea3b20cfa80"
      },
      "source": [
        "from sklearn.metrics import classification_report, confusion_matrix\n",
        "print(classification_report(y_test,y_pred))\n",
        "print(confusion_matrix(y_test,y_pred))"
      ],
      "execution_count": 13,
      "outputs": [
        {
          "output_type": "stream",
          "name": "stdout",
          "text": [
            "                 precision    recall  f1-score   support\n",
            "\n",
            "    Iris-setosa       1.00      1.00      1.00        13\n",
            "Iris-versicolor       1.00      0.94      0.97        16\n",
            " Iris-virginica       0.90      1.00      0.95         9\n",
            "\n",
            "       accuracy                           0.97        38\n",
            "      macro avg       0.97      0.98      0.97        38\n",
            "   weighted avg       0.98      0.97      0.97        38\n",
            "\n",
            "[[13  0  0]\n",
            " [ 0 15  1]\n",
            " [ 0  0  9]]\n"
          ]
        }
      ]
    }
  ]
}