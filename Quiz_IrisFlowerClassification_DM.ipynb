{
  "nbformat": 4,
  "nbformat_minor": 0,
  "metadata": {
    "colab": {
      "name": "Quiz_IrisFlowerClassification_DM.ipynb",
      "provenance": []
    },
    "kernelspec": {
      "name": "python3",
      "display_name": "Python 3"
    },
    "language_info": {
      "name": "python"
    }
  },
  "cells": [
    {
      "cell_type": "markdown",
      "metadata": {
        "id": "IGzggk0lXCMh"
      },
      "source": [
        "# Data Preparations"
      ]
    },
    {
      "cell_type": "markdown",
      "metadata": {
        "id": "fEUw8n0Iwpng"
      },
      "source": [
        "Download dataset menggunakan API Kaggle"
      ]
    },
    {
      "cell_type": "code",
      "metadata": {
        "id": "0x8xK7h9IwQW",
        "colab": {
          "base_uri": "https://localhost:8080/"
        },
        "outputId": "eb059303-8f00-40d6-ea44-21e1345962ec"
      },
      "source": [
        "# Load Kaggle API\n",
        "!pip install -q kaggle\n",
        "!mkdir -p ~/.kaggle\n",
        "!cp kaggle.json ~/.kaggle/\n",
        "!ls ~/.kaggle\n",
        "!chmod 600 /root/.kaggle/kaggle.json"
      ],
      "execution_count": null,
      "outputs": [
        {
          "output_type": "stream",
          "name": "stdout",
          "text": [
            "cp: cannot stat 'kaggle.json': No such file or directory\n",
            "chmod: cannot access '/root/.kaggle/kaggle.json': No such file or directory\n"
          ]
        }
      ]
    },
    {
      "cell_type": "code",
      "metadata": {
        "id": "gV5HvfqYJwad",
        "colab": {
          "base_uri": "https://localhost:8080/"
        },
        "outputId": "02d65664-9bf5-4b02-f4fe-54ad4625131f"
      },
      "source": [
        "# Download dataset\n",
        "!kaggle datasets download -d arshid/iris-flower-dataset -p /content/dataset\n",
        "!unzip \"/content/dataset/iris-flower-dataset.zip\" -d \"/content/dataset/\""
      ],
      "execution_count": null,
      "outputs": [
        {
          "output_type": "stream",
          "name": "stdout",
          "text": [
            "Traceback (most recent call last):\n",
            "  File \"/usr/local/bin/kaggle\", line 5, in <module>\n",
            "    from kaggle.cli import main\n",
            "  File \"/usr/local/lib/python2.7/dist-packages/kaggle/__init__.py\", line 23, in <module>\n",
            "    api.authenticate()\n",
            "  File \"/usr/local/lib/python2.7/dist-packages/kaggle/api/kaggle_api_extended.py\", line 146, in authenticate\n",
            "    self.config_file, self.config_dir))\n",
            "IOError: Could not find kaggle.json. Make sure it's located in /root/.kaggle. Or use the environment method.\n",
            "unzip:  cannot find or open /content/dataset/iris-flower-dataset.zip, /content/dataset/iris-flower-dataset.zip.zip or /content/dataset/iris-flower-dataset.zip.ZIP.\n"
          ]
        }
      ]
    },
    {
      "cell_type": "markdown",
      "metadata": {
        "id": "F1BHVTjpwxuK"
      },
      "source": [
        "Import module python yang akan digunakan"
      ]
    },
    {
      "cell_type": "code",
      "metadata": {
        "id": "RL3XQeqQLvKy"
      },
      "source": [
        "import pandas as pd\n",
        "import matplotlib.pyplot as plt\n",
        "import numpy as np\n",
        "import seaborn as sns\n",
        "import sklearn"
      ],
      "execution_count": null,
      "outputs": []
    },
    {
      "cell_type": "markdown",
      "metadata": {
        "id": "3U6UMlUDw0dJ"
      },
      "source": [
        "Dataset dijadikan sebuah dataframe pandas, features (sepal_length, sepal_width, petal_length, petal_width) pada dataset dijadikan variable x dan labels (species) pada data dijadikan variable y"
      ]
    },
    {
      "cell_type": "code",
      "metadata": {
        "id": "fld_8rbVMV0a",
        "colab": {
          "base_uri": "https://localhost:8080/"
        },
        "outputId": "cf4a57b1-d328-4b5a-b441-9f49e9794642"
      },
      "source": [
        "# load dataset as pandas dataframe\n",
        "df = pd.read_csv ('/content/dataset/IRIS.csv')\n",
        "df.info()\n",
        "print(df.head())\n",
        "\n",
        "# features to x var\n",
        "x = df.iloc[:, [0,1,2,3]].values\n",
        "# labels to y var\n",
        "y = df.iloc[:, -1].values"
      ],
      "execution_count": null,
      "outputs": [
        {
          "output_type": "stream",
          "name": "stdout",
          "text": [
            "<class 'pandas.core.frame.DataFrame'>\n",
            "RangeIndex: 150 entries, 0 to 149\n",
            "Data columns (total 5 columns):\n",
            " #   Column        Non-Null Count  Dtype  \n",
            "---  ------        --------------  -----  \n",
            " 0   sepal_length  150 non-null    float64\n",
            " 1   sepal_width   150 non-null    float64\n",
            " 2   petal_length  150 non-null    float64\n",
            " 3   petal_width   150 non-null    float64\n",
            " 4   species       150 non-null    object \n",
            "dtypes: float64(4), object(1)\n",
            "memory usage: 6.0+ KB\n",
            "   sepal_length  sepal_width  petal_length  petal_width      species\n",
            "0           5.1          3.5           1.4          0.2  Iris-setosa\n",
            "1           4.9          3.0           1.4          0.2  Iris-setosa\n",
            "2           4.7          3.2           1.3          0.2  Iris-setosa\n",
            "3           4.6          3.1           1.5          0.2  Iris-setosa\n",
            "4           5.0          3.6           1.4          0.2  Iris-setosa\n"
          ]
        }
      ]
    },
    {
      "cell_type": "markdown",
      "metadata": {
        "id": "hjOnC9qUxEBW"
      },
      "source": [
        "Dilakukan visualisasi data yang digunakan, dapat dilihat bahwa tiap species bunga masing-masing memiliki jumlah sebesar 33.3% dari total dataset\n",
        "\n",
        "Dilakukan juga visualisasi distribusi panjang dan lebar petal bunga, dan dapat dilihat bahwa Iris-setosa cenderung memiliki petal yang berukuran kecil, Iris-Versicolor cenderung berukuran sedang, dan Iris-virginica cenderung berukuran besar"
      ]
    },
    {
      "cell_type": "code",
      "metadata": {
        "id": "ukdEF9t-oNwM",
        "colab": {
          "base_uri": "https://localhost:8080/",
          "height": 617
        },
        "outputId": "f53cdb93-67ad-4f36-9ba6-80d23a3058d1"
      },
      "source": [
        "print(df.species.value_counts())\n",
        "\n",
        "# visualisasi species tanaman\n",
        "fig1, ax1 = plt.subplots()\n",
        "ax1.pie(df.species.value_counts(), labels=df.species.unique(), autopct='%1.1f%%', shadow=True, startangle=90)\n",
        "plt.tight_layout()\n",
        "\n",
        "# distribusi panjang dan lebar petal bunga\n",
        "fig1, ax1 = plt.subplots()\n",
        "sns.scatterplot(x=df.petal_length, y=df.petal_width, hue=df.species)\n",
        "plt.tight_layout()"
      ],
      "execution_count": null,
      "outputs": [
        {
          "output_type": "stream",
          "name": "stdout",
          "text": [
            "Iris-virginica     50\n",
            "Iris-setosa        50\n",
            "Iris-versicolor    50\n",
            "Name: species, dtype: int64\n"
          ]
        },
        {
          "output_type": "display_data",
          "data": {
            "image/png": "[encoded data removed]",
            "text/plain": [
              "<Figure size 432x288 with 1 Axes>"
            ]
          },
          "metadata": {}
        },
        {
          "output_type": "display_data",
          "data": {
            "image/png": "[encoded data removed]",
            "text/plain": [
              "<Figure size 432x288 with 1 Axes>"
            ]
          },
          "metadata": {}
        }
      ]
    },
    {
      "cell_type": "markdown",
      "metadata": {
        "id": "LIquVEgKJKYg"
      },
      "source": [
        "Lakukan label encoding pada label 'species'"
      ]
    },
    {
      "cell_type": "code",
      "metadata": {
        "id": "ofshybP305eV",
        "colab": {
          "base_uri": "https://localhost:8080/",
          "height": 235
        },
        "outputId": "bed39fd1-b16e-4bae-9e61-e0b16df3bdbc"
      },
      "source": [
        "from sklearn.preprocessing import LabelEncoder\n",
        "\n",
        "# encoding labels pada kolom species\n",
        "label_encoding = LabelEncoder()\n",
        "df['species'] = label_encoding.fit_transform(df['species'])\n",
        "df.sample(6)"
      ],
      "execution_count": null,
      "outputs": [
        {
          "output_type": "execute_result",
          "data": {
            "text/html": [
              "<div>\n",
              "<style scoped>\n",
              "    .dataframe tbody tr th:only-of-type {\n",
              "        vertical-align: middle;\n",
              "    }\n",
              "\n",
              "    .dataframe tbody tr th {\n",
              "        vertical-align: top;\n",
              "    }\n",
              "\n",
              "    .dataframe thead th {\n",
              "        text-align: right;\n",
              "    }\n",
              "</style>\n",
              "<table border=\"1\" class=\"dataframe\">\n",
              "  <thead>\n",
              "    <tr style=\"text-align: right;\">\n",
              "      <th></th>\n",
              "      <th>sepal_length</th>\n",
              "      <th>sepal_width</th>\n",
              "      <th>petal_length</th>\n",
              "      <th>petal_width</th>\n",
              "      <th>species</th>\n",
              "    </tr>\n",
              "  </thead>\n",
              "  <tbody>\n",
              "    <tr>\n",
              "      <th>111</th>\n",
              "      <td>6.4</td>\n",
              "      <td>2.7</td>\n",
              "      <td>5.3</td>\n",
              "      <td>1.9</td>\n",
              "      <td>2</td>\n",
              "    </tr>\n",
              "    <tr>\n",
              "      <th>47</th>\n",
              "      <td>4.6</td>\n",
              "      <td>3.2</td>\n",
              "      <td>1.4</td>\n",
              "      <td>0.2</td>\n",
              "      <td>0</td>\n",
              "    </tr>\n",
              "    <tr>\n",
              "      <th>83</th>\n",
              "      <td>6.0</td>\n",
              "      <td>2.7</td>\n",
              "      <td>5.1</td>\n",
              "      <td>1.6</td>\n",
              "      <td>1</td>\n",
              "    </tr>\n",
              "    <tr>\n",
              "      <th>62</th>\n",
              "      <td>6.0</td>\n",
              "      <td>2.2</td>\n",
              "      <td>4.0</td>\n",
              "      <td>1.0</td>\n",
              "      <td>1</td>\n",
              "    </tr>\n",
              "    <tr>\n",
              "      <th>68</th>\n",
              "      <td>6.2</td>\n",
              "      <td>2.2</td>\n",
              "      <td>4.5</td>\n",
              "      <td>1.5</td>\n",
              "      <td>1</td>\n",
              "    </tr>\n",
              "    <tr>\n",
              "      <th>30</th>\n",
              "      <td>4.8</td>\n",
              "      <td>3.1</td>\n",
              "      <td>1.6</td>\n",
              "      <td>0.2</td>\n",
              "      <td>0</td>\n",
              "    </tr>\n",
              "  </tbody>\n",
              "</table>\n",
              "</div>"
            ],
            "text/plain": [
              "     sepal_length  sepal_width  petal_length  petal_width  species\n",
              "111           6.4          2.7           5.3          1.9        2\n",
              "47            4.6          3.2           1.4          0.2        0\n",
              "83            6.0          2.7           5.1          1.6        1\n",
              "62            6.0          2.2           4.0          1.0        1\n",
              "68            6.2          2.2           4.5          1.5        1\n",
              "30            4.8          3.1           1.6          0.2        0"
            ]
          },
          "metadata": {},
          "execution_count": 23
        }
      ]
    },
    {
      "cell_type": "markdown",
      "metadata": {
        "id": "RueoCdbXmAXX"
      },
      "source": [
        "# Test-Split"
      ]
    },
    {
      "cell_type": "markdown",
      "metadata": {
        "id": "39yNKcVhJJHX"
      },
      "source": [
        "Saya menggunakan Train-Test Split dengan data Training: 75%, Data Uji: 25% "
      ]
    },
    {
      "cell_type": "code",
      "metadata": {
        "id": "PNC-q6idI4ZB"
      },
      "source": [
        "from sklearn.model_selection import train_test_split\n",
        "\n",
        "X_train, X_test, y_train, y_test = train_test_split(x, y, test_size = 0.25, random_state = 0)"
      ],
      "execution_count": null,
      "outputs": []
    },
    {
      "cell_type": "markdown",
      "metadata": {
        "id": "7bGJC8Q4XFDP"
      },
      "source": [
        "# Gaussian Naive Bayes Classifier"
      ]
    },
    {
      "cell_type": "code",
      "metadata": {
        "id": "q5LsWO9MO6DV",
        "colab": {
          "base_uri": "https://localhost:8080/"
        },
        "outputId": "e7083701-b598-4115-c5cc-2bca9b4ecb67"
      },
      "source": [
        "from sklearn.naive_bayes import GaussianNB\n",
        "\n",
        "classifier = GaussianNB()\n",
        "classifier.fit(X_train, y_train)"
      ],
      "execution_count": null,
      "outputs": [
        {
          "output_type": "execute_result",
          "data": {
            "text/plain": [
              "GaussianNB(priors=None, var_smoothing=1e-09)"
            ]
          },
          "metadata": {},
          "execution_count": 25
        }
      ]
    },
    {
      "cell_type": "code",
      "metadata": {
        "id": "wz1hC3zKO8bl"
      },
      "source": [
        "y_pred  =  classifier.predict(X_test)"
      ],
      "execution_count": null,
      "outputs": []
    },
    {
      "cell_type": "code",
      "metadata": {
        "id": "3Bf30fkgQx_8",
        "colab": {
          "base_uri": "https://localhost:8080/",
          "height": 460
        },
        "outputId": "2ea254e7-536d-4c47-c2c1-29b8ea6c0c59"
      },
      "source": [
        "from sklearn.metrics import confusion_matrix, accuracy_score, classification_report\n",
        "\n",
        "print(classification_report(y_test, y_pred))\n",
        "\n",
        "\n",
        "print(\"confusion matrix: \")\n",
        "df_cm = pd.DataFrame(confusion_matrix(y_test, y_pred), range(3), range(3))\n",
        "sns.set(font_scale=1.4) # for label size\n",
        "sns.heatmap(df_cm, annot=True, annot_kws={\"size\": 16}) # font size\n",
        "\n",
        "plt.show()"
      ],
      "execution_count": null,
      "outputs": [
        {
          "output_type": "stream",
          "name": "stdout",
          "text": [
            "                 precision    recall  f1-score   support\n",
            "\n",
            "    Iris-setosa       1.00      1.00      1.00        13\n",
            "Iris-versicolor       1.00      1.00      1.00        16\n",
            " Iris-virginica       1.00      1.00      1.00         9\n",
            "\n",
            "       accuracy                           1.00        38\n",
            "      macro avg       1.00      1.00      1.00        38\n",
            "   weighted avg       1.00      1.00      1.00        38\n",
            "\n",
            "confusion matrix: \n"
          ]
        },
        {
          "output_type": "display_data",
          "data": {
            "image/png": "[encoded data removed]",
            "text/plain": [
              "<Figure size 432x288 with 2 Axes>"
            ]
          },
          "metadata": {}
        }
      ]
    },
    {
      "cell_type": "markdown",
      "metadata": {
        "id": "U47Y2_6sXHkR"
      },
      "source": [
        "# Kernel SVM dengan Kernel Gaussian"
      ]
    },
    {
      "cell_type": "code",
      "metadata": {
        "id": "y8OqLIcIN6kg",
        "colab": {
          "base_uri": "https://localhost:8080/"
        },
        "outputId": "33bc9807-b3f1-48d7-8df4-f4aae91659ae"
      },
      "source": [
        "from sklearn.svm import SVC\n",
        "\n",
        "svclassifier = SVC(kernel='rbf')\n",
        "svclassifier.fit(X_train, y_train)"
      ],
      "execution_count": null,
      "outputs": [
        {
          "output_type": "execute_result",
          "data": {
            "text/plain": [
              "SVC(C=1.0, break_ties=False, cache_size=200, class_weight=None, coef0=0.0,\n",
              "    decision_function_shape='ovr', degree=3, gamma='scale', kernel='rbf',\n",
              "    max_iter=-1, probability=False, random_state=None, shrinking=True,\n",
              "    tol=0.001, verbose=False)"
            ]
          },
          "metadata": {},
          "execution_count": 28
        }
      ]
    },
    {
      "cell_type": "code",
      "metadata": {
        "id": "ev_rfuPmN_Fb"
      },
      "source": [
        "y_pred = svclassifier.predict(X_test)"
      ],
      "execution_count": null,
      "outputs": []
    },
    {
      "cell_type": "code",
      "metadata": {
        "id": "PamejMShF2mS",
        "colab": {
          "base_uri": "https://localhost:8080/",
          "height": 466
        },
        "outputId": "788f22e0-52d0-4fd3-c1e2-b8b2dc5c03bc"
      },
      "source": [
        "from sklearn.metrics import classification_report, confusion_matrix\n",
        "print(classification_report(y_test,y_pred))\n",
        "\n",
        "print(\"confusion matrix: \")\n",
        "df_cm = pd.DataFrame(confusion_matrix(y_test, y_pred), range(3), range(3))\n",
        "sns.set(font_scale=1.4) # for label size\n",
        "sns.heatmap(df_cm, annot=True, annot_kws={\"size\": 16}) # font size\n",
        "\n",
        "plt.show()"
      ],
      "execution_count": null,
      "outputs": [
        {
          "output_type": "stream",
          "name": "stdout",
          "text": [
            "                 precision    recall  f1-score   support\n",
            "\n",
            "    Iris-setosa       1.00      1.00      1.00        13\n",
            "Iris-versicolor       1.00      0.94      0.97        16\n",
            " Iris-virginica       0.90      1.00      0.95         9\n",
            "\n",
            "       accuracy                           0.97        38\n",
            "      macro avg       0.97      0.98      0.97        38\n",
            "   weighted avg       0.98      0.97      0.97        38\n",
            "\n",
            "confusion matrix: \n"
          ]
        },
        {
          "output_type": "display_data",
          "data": {
            "image/png": "[encoded data removed]",
            "text/plain": [
              "<Figure size 432x288 with 2 Axes>"
            ]
          },
          "metadata": {}
        }
      ]
    },
    {
      "cell_type": "markdown",
      "metadata": {
        "id": "PLncptW0YS_P"
      },
      "source": [
        "# Kesimpulan"
      ]
    },
    {
      "cell_type": "markdown",
      "metadata": {
        "id": "FwID_6AKYfB3"
      },
      "source": [
        "Pada quiz ini saya menggunakan dua algoritma klasifikasi yaitu **Gaussian Naive Bayes Classifier** dan **Kernel SVM dengan Kernel Gaussian**. \n",
        "\n",
        "Jumlah Dataset sebanyak 150 saya bagi menjadi 75% sebagai data training + 25% sebagai data uji Preprocessing yang dilakukan pada dataset adalah encoding pada label 'spesies'.\n",
        "\n",
        "Dari hasil yang telah didapatkan, akurasi dari **Gaussian Naive Bayes Classifier** sebesar 100%, sedangkan  **Kernel SVM dengan Kernel Gaussian** sebesar 97%."
      ]
    }
  ]
}